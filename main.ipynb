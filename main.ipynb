{
  "nbformat": 4,
  "nbformat_minor": 0,
  "metadata": {
    "language_info": {
      "name": "python",
      "codemirror_mode": {
        "name": "ipython",
        "version": 3
      },
      "version": "3.7.7-final"
    },
    "orig_nbformat": 2,
    "file_extension": ".py",
    "mimetype": "text/x-python",
    "name": "python",
    "npconvert_exporter": "python",
    "pygments_lexer": "ipython3",
    "version": 3,
    "kernelspec": {
      "name": "python3",
      "display_name": "Python 3"
    },
    "colab": {
      "name": "main.ipynb",
      "provenance": [],
      "collapsed_sections": []
    }
  },
  "cells": [
    {
      "cell_type": "code",
      "metadata": {
        "id": "P-FRTDqkqXGw",
        "colab_type": "code",
        "colab": {}
      },
      "source": [
        "import pandas as pd\n"
      ],
      "execution_count": 0,
      "outputs": []
    },
    {
      "cell_type": "code",
      "metadata": {
        "id": "i1AHqpNxqXG0",
        "colab_type": "code",
        "colab": {}
      },
      "source": [
        "##Remove null from data#"
      ],
      "execution_count": 0,
      "outputs": []
    },
    {
      "cell_type": "code",
      "metadata": {
        "id": "0nGxAlW1qXG2",
        "colab_type": "code",
        "colab": {}
      },
      "source": [
        "jkse = pd.read_csv('data/JKSE.csv')"
      ],
      "execution_count": 0,
      "outputs": []
    },
    {
      "cell_type": "code",
      "metadata": {
        "id": "HHmWzBcBqXG4",
        "colab_type": "code",
        "colab": {}
      },
      "source": [
        "#Check null"
      ],
      "execution_count": 0,
      "outputs": []
    },
    {
      "cell_type": "code",
      "metadata": {
        "id": "AKwLwjqTqXG6",
        "colab_type": "code",
        "colab": {
          "base_uri": "https://localhost:8080/",
          "height": 151
        },
        "outputId": "658bb656-d8ee-4c31-f3f3-97e328b96565"
      },
      "source": [
        "jkse.isnull().sum()"
      ],
      "execution_count": 5,
      "outputs": [
        {
          "output_type": "execute_result",
          "data": {
            "text/plain": [
              "Date           0\n",
              "Open         307\n",
              "High         307\n",
              "Low          307\n",
              "Close        307\n",
              "Adj Close    307\n",
              "Volume       307\n",
              "dtype: int64"
            ]
          },
          "metadata": {
            "tags": []
          },
          "execution_count": 5
        }
      ]
    },
    {
      "cell_type": "code",
      "metadata": {
        "id": "YwiOuBtaqXG9",
        "colab_type": "code",
        "colab": {}
      },
      "source": [
        "jkse = jkse.dropna()"
      ],
      "execution_count": 0,
      "outputs": []
    },
    {
      "cell_type": "code",
      "metadata": {
        "id": "gXU0u0UCqXHB",
        "colab_type": "code",
        "colab": {}
      },
      "source": [
        "jkse.to_csv(\"data/JKSE_CLEAN.csv\")"
      ],
      "execution_count": 0,
      "outputs": []
    },
    {
      "cell_type": "code",
      "metadata": {
        "id": "OwOW9WPZqXHD",
        "colab_type": "code",
        "colab": {}
      },
      "source": [
        "import numpy as np\n",
        "import matplotlib.pyplot as plt\n",
        "from random import seed"
      ],
      "execution_count": 0,
      "outputs": []
    },
    {
      "cell_type": "code",
      "metadata": {
        "id": "KTWbsfciqXHF",
        "colab_type": "code",
        "colab": {}
      },
      "source": [
        "seed(0)\n",
        "data = pd.read_csv('data/JKSE_CLEAN.csv',header=0, usecols=['Date', 'Close'],parse_dates=True,index_col='Date')"
      ],
      "execution_count": 0,
      "outputs": []
    },
    {
      "cell_type": "code",
      "metadata": {
        "id": "TdwIBYShqXHH",
        "colab_type": "code",
        "colab": {
          "base_uri": "https://localhost:8080/",
          "height": 225
        },
        "outputId": "1d8056f7-9bbf-4954-9fb9-58de42ef962f"
      },
      "source": [
        "data.head()"
      ],
      "execution_count": 10,
      "outputs": [
        {
          "output_type": "execute_result",
          "data": {
            "text/html": [
              "<div>\n",
              "<style scoped>\n",
              "    .dataframe tbody tr th:only-of-type {\n",
              "        vertical-align: middle;\n",
              "    }\n",
              "\n",
              "    .dataframe tbody tr th {\n",
              "        vertical-align: top;\n",
              "    }\n",
              "\n",
              "    .dataframe thead th {\n",
              "        text-align: right;\n",
              "    }\n",
              "</style>\n",
              "<table border=\"1\" class=\"dataframe\">\n",
              "  <thead>\n",
              "    <tr style=\"text-align: right;\">\n",
              "      <th></th>\n",
              "      <th>Close</th>\n",
              "    </tr>\n",
              "    <tr>\n",
              "      <th>Date</th>\n",
              "      <th></th>\n",
              "    </tr>\n",
              "  </thead>\n",
              "  <tbody>\n",
              "    <tr>\n",
              "      <th>1990-04-06</th>\n",
              "      <td>641.268982</td>\n",
              "    </tr>\n",
              "    <tr>\n",
              "      <th>1990-04-09</th>\n",
              "      <td>633.481995</td>\n",
              "    </tr>\n",
              "    <tr>\n",
              "      <th>1990-04-10</th>\n",
              "      <td>632.085999</td>\n",
              "    </tr>\n",
              "    <tr>\n",
              "      <th>1990-04-11</th>\n",
              "      <td>634.692993</td>\n",
              "    </tr>\n",
              "    <tr>\n",
              "      <th>1990-04-12</th>\n",
              "      <td>639.614014</td>\n",
              "    </tr>\n",
              "  </tbody>\n",
              "</table>\n",
              "</div>"
            ],
            "text/plain": [
              "                 Close\n",
              "Date                  \n",
              "1990-04-06  641.268982\n",
              "1990-04-09  633.481995\n",
              "1990-04-10  632.085999\n",
              "1990-04-11  634.692993\n",
              "1990-04-12  639.614014"
            ]
          },
          "metadata": {
            "tags": []
          },
          "execution_count": 10
        }
      ]
    },
    {
      "cell_type": "code",
      "metadata": {
        "id": "xOvEkt4mqXHJ",
        "colab_type": "code",
        "colab": {}
      },
      "source": [
        "#Data scaling"
      ],
      "execution_count": 0,
      "outputs": []
    },
    {
      "cell_type": "code",
      "metadata": {
        "id": "IWxiBLNGqXHL",
        "colab_type": "code",
        "colab": {}
      },
      "source": [
        "from sklearn.preprocessing import MinMaxScaler"
      ],
      "execution_count": 0,
      "outputs": []
    },
    {
      "cell_type": "code",
      "metadata": {
        "id": "QuHECuVzqXHO",
        "colab_type": "code",
        "colab": {}
      },
      "source": [
        "sc = MinMaxScaler()\n",
        "data_scaled = sc.fit_transform(data)"
      ],
      "execution_count": 0,
      "outputs": []
    },
    {
      "cell_type": "code",
      "metadata": {
        "id": "ZA8-sBR4qXHQ",
        "colab_type": "code",
        "colab": {}
      },
      "source": [
        "#Data splitting"
      ],
      "execution_count": 0,
      "outputs": []
    },
    {
      "cell_type": "code",
      "metadata": {
        "id": "owE4JJAhqXHR",
        "colab_type": "code",
        "colab": {}
      },
      "source": [
        "np.random.seed(7)\n",
        "\n",
        "train_len = int(len(data_scaled) * 0.70)\n",
        "test_len = len(data_scaled) - train_len\n",
        "train_data = data_scaled[0:train_len, :]\n",
        "test_data = data_scaled[train_len:len(data_scaled), :]"
      ],
      "execution_count": 0,
      "outputs": []
    },
    {
      "cell_type": "code",
      "metadata": {
        "id": "PfyWJkvHqXHT",
        "colab_type": "code",
        "colab": {
          "base_uri": "https://localhost:8080/",
          "height": 34
        },
        "outputId": "ff2823f7-1ab0-4100-aa3d-ef0c20a0b7cd"
      },
      "source": [
        "# Check\n",
        "\n",
        "print(len(train_data), len(test_data))"
      ],
      "execution_count": 16,
      "outputs": [
        {
          "output_type": "stream",
          "text": [
            "5131 2200\n"
          ],
          "name": "stdout"
        }
      ]
    },
    {
      "cell_type": "code",
      "metadata": {
        "id": "beArxTkJqXHV",
        "colab_type": "code",
        "colab": {}
      },
      "source": [
        "def dataset_creator(data, time_step=1):\n",
        "\tdata_x, data_y = [], []\n",
        "\tfor i in range(len(data)-time_step-1):\n",
        "\t\ta = data[i:(i+time_step), 0]\n",
        "\t\tdata_x.append(a)\n",
        "\t\tdata_y.append(data[i + time_step, 0])\n",
        "\treturn np.array(data_x), np.array(data_y)\n"
      ],
      "execution_count": 0,
      "outputs": []
    },
    {
      "cell_type": "code",
      "metadata": {
        "id": "wbahhbaSqXHX",
        "colab_type": "code",
        "colab": {
          "base_uri": "https://localhost:8080/",
          "height": 34
        },
        "outputId": "b103f381-50dd-4d27-9897-cf8095ae9d0c"
      },
      "source": [
        "time_step = 1\n",
        "train_x, train_y = dataset_creator(train_data, time_step)\n",
        "test_x, test_y = dataset_creator(test_data, time_step)\n",
        "\n",
        "print(test_y)"
      ],
      "execution_count": 18,
      "outputs": [
        {
          "output_type": "stream",
          "text": [
            "[0.53439603 0.53885208 0.53770146 ... 0.66743825 0.65616503 0.66631777]\n"
          ],
          "name": "stdout"
        }
      ]
    },
    {
      "cell_type": "code",
      "metadata": {
        "id": "8DK2Mvn3qXHZ",
        "colab_type": "code",
        "colab": {
          "base_uri": "https://localhost:8080/",
          "height": 50
        },
        "outputId": "cad3ff47-5428-4bc4-84fd-3167e8304b03"
      },
      "source": [
        "#create tensor for train and test data\n",
        "\n",
        "train_x = np.reshape(train_x, (train_x.shape[0], 1, train_x.shape[1]))\n",
        "test_x = np.reshape(test_x, (test_x.shape[0], 1, test_x.shape[1]))\n",
        "\n",
        "print(train_x.shape)\n",
        "print(test_x.shape)"
      ],
      "execution_count": 19,
      "outputs": [
        {
          "output_type": "stream",
          "text": [
            "(5129, 1, 1)\n",
            "(2198, 1, 1)\n"
          ],
          "name": "stdout"
        }
      ]
    },
    {
      "cell_type": "code",
      "metadata": {
        "id": "pr8XtBc2qXHb",
        "colab_type": "code",
        "colab": {
          "base_uri": "https://localhost:8080/",
          "height": 1000
        },
        "outputId": "c21fcec2-eefa-41a6-f52f-b98ced5ee206"
      },
      "source": [
        "#Create LSTM Model\n",
        "import tensorflow as tf\n",
        "from tensorflow.keras import Sequential\n",
        "from tensorflow.keras.layers import LSTM, Dense\n",
        "\n",
        "model = Sequential()\n",
        "model.add(LSTM(256, input_shape=(1, 1)))\n",
        "model.add(Dense(1, activation='sigmoid'))\n",
        "model.compile(loss='mean_squared_error', optimizer='adam', metrics=['accuracy'])\n",
        "model.fit(train_x, train_y, epochs=100, batch_size=1, verbose=1)\n",
        "model.summary()\n",
        "model.save('saved_model/my_model') "
      ],
      "execution_count": 20,
      "outputs": [
        {
          "output_type": "stream",
          "text": [
            "Epoch 1/100\n",
            "5129/5129 [==============================] - 14s 3ms/step - loss: 0.0042 - accuracy: 1.9497e-04\n",
            "Epoch 2/100\n",
            "5129/5129 [==============================] - 14s 3ms/step - loss: 2.7418e-04 - accuracy: 1.9497e-04\n",
            "Epoch 3/100\n",
            "5129/5129 [==============================] - 14s 3ms/step - loss: 1.8167e-04 - accuracy: 1.9497e-04\n",
            "Epoch 4/100\n",
            "5129/5129 [==============================] - 14s 3ms/step - loss: 1.7365e-04 - accuracy: 1.9497e-04\n",
            "Epoch 5/100\n",
            "5129/5129 [==============================] - 14s 3ms/step - loss: 1.7030e-04 - accuracy: 1.9497e-04\n",
            "Epoch 6/100\n",
            "5129/5129 [==============================] - 14s 3ms/step - loss: 1.5477e-04 - accuracy: 1.9497e-04\n",
            "Epoch 7/100\n",
            "5129/5129 [==============================] - 14s 3ms/step - loss: 1.2993e-04 - accuracy: 1.9497e-04\n",
            "Epoch 8/100\n",
            "5129/5129 [==============================] - 14s 3ms/step - loss: 8.3488e-05 - accuracy: 1.9497e-04\n",
            "Epoch 9/100\n",
            "5129/5129 [==============================] - 14s 3ms/step - loss: 4.5879e-05 - accuracy: 1.9497e-04\n",
            "Epoch 10/100\n",
            "5129/5129 [==============================] - 14s 3ms/step - loss: 3.9884e-05 - accuracy: 1.9497e-04\n",
            "Epoch 11/100\n",
            "5129/5129 [==============================] - 14s 3ms/step - loss: 3.8779e-05 - accuracy: 1.9497e-04\n",
            "Epoch 12/100\n",
            "5129/5129 [==============================] - 14s 3ms/step - loss: 3.5434e-05 - accuracy: 1.9497e-04\n",
            "Epoch 13/100\n",
            "5129/5129 [==============================] - 14s 3ms/step - loss: 3.3797e-05 - accuracy: 1.9497e-04\n",
            "Epoch 14/100\n",
            "5129/5129 [==============================] - 14s 3ms/step - loss: 3.0231e-05 - accuracy: 1.9497e-04\n",
            "Epoch 15/100\n",
            "5129/5129 [==============================] - 14s 3ms/step - loss: 2.8533e-05 - accuracy: 1.9497e-04\n",
            "Epoch 16/100\n",
            "5129/5129 [==============================] - 14s 3ms/step - loss: 2.7277e-05 - accuracy: 1.9497e-04\n",
            "Epoch 17/100\n",
            "5129/5129 [==============================] - 14s 3ms/step - loss: 2.5530e-05 - accuracy: 1.9497e-04\n",
            "Epoch 18/100\n",
            "5129/5129 [==============================] - 14s 3ms/step - loss: 2.4508e-05 - accuracy: 1.9497e-04\n",
            "Epoch 19/100\n",
            "5129/5129 [==============================] - 14s 3ms/step - loss: 2.3580e-05 - accuracy: 1.9497e-04\n",
            "Epoch 20/100\n",
            "5129/5129 [==============================] - 15s 3ms/step - loss: 2.2700e-05 - accuracy: 1.9497e-04\n",
            "Epoch 21/100\n",
            "5129/5129 [==============================] - 15s 3ms/step - loss: 2.3022e-05 - accuracy: 1.9497e-04\n",
            "Epoch 22/100\n",
            "5129/5129 [==============================] - 16s 3ms/step - loss: 2.0702e-05 - accuracy: 1.9497e-04\n",
            "Epoch 23/100\n",
            "5129/5129 [==============================] - 15s 3ms/step - loss: 2.0733e-05 - accuracy: 1.9497e-04\n",
            "Epoch 24/100\n",
            "5129/5129 [==============================] - 15s 3ms/step - loss: 2.0953e-05 - accuracy: 1.9497e-04\n",
            "Epoch 25/100\n",
            "5129/5129 [==============================] - 14s 3ms/step - loss: 2.0128e-05 - accuracy: 1.9497e-04\n",
            "Epoch 26/100\n",
            "5129/5129 [==============================] - 14s 3ms/step - loss: 1.9028e-05 - accuracy: 1.9497e-04\n",
            "Epoch 27/100\n",
            "5129/5129 [==============================] - 14s 3ms/step - loss: 1.8953e-05 - accuracy: 1.9497e-04\n",
            "Epoch 28/100\n",
            "5129/5129 [==============================] - 14s 3ms/step - loss: 1.8577e-05 - accuracy: 1.9497e-04\n",
            "Epoch 29/100\n",
            "5129/5129 [==============================] - 14s 3ms/step - loss: 1.8391e-05 - accuracy: 1.9497e-04\n",
            "Epoch 30/100\n",
            "5129/5129 [==============================] - 14s 3ms/step - loss: 1.8201e-05 - accuracy: 1.9497e-04\n",
            "Epoch 31/100\n",
            "5129/5129 [==============================] - 14s 3ms/step - loss: 1.7713e-05 - accuracy: 1.9497e-04\n",
            "Epoch 32/100\n",
            "5129/5129 [==============================] - 14s 3ms/step - loss: 1.6876e-05 - accuracy: 1.9497e-04\n",
            "Epoch 33/100\n",
            "5129/5129 [==============================] - 14s 3ms/step - loss: 1.7279e-05 - accuracy: 1.9497e-04\n",
            "Epoch 34/100\n",
            "5129/5129 [==============================] - 14s 3ms/step - loss: 1.7231e-05 - accuracy: 1.9497e-04\n",
            "Epoch 35/100\n",
            "5129/5129 [==============================] - 14s 3ms/step - loss: 1.7221e-05 - accuracy: 1.9497e-04\n",
            "Epoch 36/100\n",
            "5129/5129 [==============================] - 14s 3ms/step - loss: 1.5780e-05 - accuracy: 1.9497e-04\n",
            "Epoch 37/100\n",
            "5129/5129 [==============================] - 14s 3ms/step - loss: 1.6687e-05 - accuracy: 1.9497e-04\n",
            "Epoch 38/100\n",
            "5129/5129 [==============================] - 14s 3ms/step - loss: 1.5831e-05 - accuracy: 1.9497e-04\n",
            "Epoch 39/100\n",
            "5129/5129 [==============================] - 14s 3ms/step - loss: 1.5575e-05 - accuracy: 1.9497e-04\n",
            "Epoch 40/100\n",
            "5129/5129 [==============================] - 14s 3ms/step - loss: 1.5353e-05 - accuracy: 1.9497e-04\n",
            "Epoch 41/100\n",
            "5129/5129 [==============================] - 14s 3ms/step - loss: 1.4973e-05 - accuracy: 1.9497e-04\n",
            "Epoch 42/100\n",
            "5129/5129 [==============================] - 14s 3ms/step - loss: 1.4992e-05 - accuracy: 1.9497e-04\n",
            "Epoch 43/100\n",
            "5129/5129 [==============================] - 15s 3ms/step - loss: 1.4509e-05 - accuracy: 1.9497e-04\n",
            "Epoch 44/100\n",
            "5129/5129 [==============================] - 15s 3ms/step - loss: 1.4872e-05 - accuracy: 1.9497e-04\n",
            "Epoch 45/100\n",
            "5129/5129 [==============================] - 14s 3ms/step - loss: 1.4617e-05 - accuracy: 1.9497e-04\n",
            "Epoch 46/100\n",
            "5129/5129 [==============================] - 14s 3ms/step - loss: 1.4859e-05 - accuracy: 1.9497e-04\n",
            "Epoch 47/100\n",
            "5129/5129 [==============================] - 14s 3ms/step - loss: 1.3798e-05 - accuracy: 1.9497e-04\n",
            "Epoch 48/100\n",
            "5129/5129 [==============================] - 14s 3ms/step - loss: 1.3937e-05 - accuracy: 1.9497e-04\n",
            "Epoch 49/100\n",
            "5129/5129 [==============================] - 14s 3ms/step - loss: 1.4016e-05 - accuracy: 1.9497e-04\n",
            "Epoch 50/100\n",
            "5129/5129 [==============================] - 14s 3ms/step - loss: 1.3347e-05 - accuracy: 1.9497e-04\n",
            "Epoch 51/100\n",
            "5129/5129 [==============================] - 14s 3ms/step - loss: 1.3723e-05 - accuracy: 1.9497e-04\n",
            "Epoch 52/100\n",
            "5129/5129 [==============================] - 14s 3ms/step - loss: 1.3334e-05 - accuracy: 1.9497e-04\n",
            "Epoch 53/100\n",
            "5129/5129 [==============================] - 14s 3ms/step - loss: 1.4062e-05 - accuracy: 1.9497e-04\n",
            "Epoch 54/100\n",
            "5129/5129 [==============================] - 14s 3ms/step - loss: 1.3735e-05 - accuracy: 1.9497e-04\n",
            "Epoch 55/100\n",
            "5129/5129 [==============================] - 14s 3ms/step - loss: 1.2641e-05 - accuracy: 1.9497e-04\n",
            "Epoch 56/100\n",
            "5129/5129 [==============================] - 14s 3ms/step - loss: 1.3010e-05 - accuracy: 1.9497e-04\n",
            "Epoch 57/100\n",
            "5129/5129 [==============================] - 14s 3ms/step - loss: 1.2783e-05 - accuracy: 1.9497e-04\n",
            "Epoch 58/100\n",
            "5129/5129 [==============================] - 14s 3ms/step - loss: 1.2901e-05 - accuracy: 1.9497e-04\n",
            "Epoch 59/100\n",
            "5129/5129 [==============================] - 14s 3ms/step - loss: 1.3082e-05 - accuracy: 1.9497e-04\n",
            "Epoch 60/100\n",
            "5129/5129 [==============================] - 14s 3ms/step - loss: 1.2871e-05 - accuracy: 1.9497e-04\n",
            "Epoch 61/100\n",
            "5129/5129 [==============================] - 14s 3ms/step - loss: 1.2769e-05 - accuracy: 1.9497e-04\n",
            "Epoch 62/100\n",
            "5129/5129 [==============================] - 14s 3ms/step - loss: 1.2850e-05 - accuracy: 1.9497e-04\n",
            "Epoch 63/100\n",
            "5129/5129 [==============================] - 14s 3ms/step - loss: 1.2094e-05 - accuracy: 1.9497e-04\n",
            "Epoch 64/100\n",
            "5129/5129 [==============================] - 14s 3ms/step - loss: 1.2720e-05 - accuracy: 1.9497e-04\n",
            "Epoch 65/100\n",
            "5129/5129 [==============================] - 16s 3ms/step - loss: 1.2234e-05 - accuracy: 1.9497e-04\n",
            "Epoch 66/100\n",
            "5129/5129 [==============================] - 14s 3ms/step - loss: 1.1988e-05 - accuracy: 1.9497e-04\n",
            "Epoch 67/100\n",
            "5129/5129 [==============================] - 14s 3ms/step - loss: 1.2335e-05 - accuracy: 1.9497e-04\n",
            "Epoch 68/100\n",
            "5129/5129 [==============================] - 14s 3ms/step - loss: 1.2186e-05 - accuracy: 1.9497e-04\n",
            "Epoch 69/100\n",
            "5129/5129 [==============================] - 14s 3ms/step - loss: 1.1852e-05 - accuracy: 1.9497e-04\n",
            "Epoch 70/100\n",
            "5129/5129 [==============================] - 14s 3ms/step - loss: 1.2101e-05 - accuracy: 1.9497e-04\n",
            "Epoch 71/100\n",
            "5129/5129 [==============================] - 14s 3ms/step - loss: 1.1750e-05 - accuracy: 1.9497e-04\n",
            "Epoch 72/100\n",
            "5129/5129 [==============================] - 14s 3ms/step - loss: 1.2216e-05 - accuracy: 1.9497e-04\n",
            "Epoch 73/100\n",
            "5129/5129 [==============================] - 14s 3ms/step - loss: 1.1926e-05 - accuracy: 1.9497e-04\n",
            "Epoch 74/100\n",
            "5129/5129 [==============================] - 14s 3ms/step - loss: 1.2221e-05 - accuracy: 1.9497e-04\n",
            "Epoch 75/100\n",
            "5129/5129 [==============================] - 14s 3ms/step - loss: 1.2284e-05 - accuracy: 1.9497e-04\n",
            "Epoch 76/100\n",
            "5129/5129 [==============================] - 14s 3ms/step - loss: 1.2035e-05 - accuracy: 1.9497e-04\n",
            "Epoch 77/100\n",
            "5129/5129 [==============================] - 14s 3ms/step - loss: 1.2177e-05 - accuracy: 1.9497e-04\n",
            "Epoch 78/100\n",
            "5129/5129 [==============================] - 14s 3ms/step - loss: 1.2047e-05 - accuracy: 1.9497e-04\n",
            "Epoch 79/100\n",
            "5129/5129 [==============================] - 14s 3ms/step - loss: 1.1727e-05 - accuracy: 1.9497e-04\n",
            "Epoch 80/100\n",
            "5129/5129 [==============================] - 14s 3ms/step - loss: 1.1742e-05 - accuracy: 1.9497e-04\n",
            "Epoch 81/100\n",
            "5129/5129 [==============================] - 14s 3ms/step - loss: 1.1429e-05 - accuracy: 1.9497e-04\n",
            "Epoch 82/100\n",
            "5129/5129 [==============================] - 14s 3ms/step - loss: 1.1749e-05 - accuracy: 1.9497e-04\n",
            "Epoch 83/100\n",
            "5129/5129 [==============================] - 14s 3ms/step - loss: 1.1528e-05 - accuracy: 1.9497e-04\n",
            "Epoch 84/100\n",
            "5129/5129 [==============================] - 14s 3ms/step - loss: 1.2018e-05 - accuracy: 1.9497e-04\n",
            "Epoch 85/100\n",
            "5129/5129 [==============================] - 14s 3ms/step - loss: 1.1427e-05 - accuracy: 1.9497e-04\n",
            "Epoch 86/100\n",
            "5129/5129 [==============================] - 14s 3ms/step - loss: 1.1827e-05 - accuracy: 1.9497e-04\n",
            "Epoch 87/100\n",
            "5129/5129 [==============================] - 16s 3ms/step - loss: 1.1682e-05 - accuracy: 1.9497e-04\n",
            "Epoch 88/100\n",
            "5129/5129 [==============================] - 14s 3ms/step - loss: 1.1547e-05 - accuracy: 1.9497e-04\n",
            "Epoch 89/100\n",
            "5129/5129 [==============================] - 14s 3ms/step - loss: 1.1784e-05 - accuracy: 1.9497e-04\n",
            "Epoch 90/100\n",
            "5129/5129 [==============================] - 14s 3ms/step - loss: 1.1654e-05 - accuracy: 1.9497e-04\n",
            "Epoch 91/100\n",
            "5129/5129 [==============================] - 14s 3ms/step - loss: 1.1589e-05 - accuracy: 1.9497e-04\n",
            "Epoch 92/100\n",
            "5129/5129 [==============================] - 14s 3ms/step - loss: 1.1506e-05 - accuracy: 1.9497e-04\n",
            "Epoch 93/100\n",
            "5129/5129 [==============================] - 14s 3ms/step - loss: 1.1478e-05 - accuracy: 1.9497e-04\n",
            "Epoch 94/100\n",
            "5129/5129 [==============================] - 14s 3ms/step - loss: 1.1448e-05 - accuracy: 1.9497e-04\n",
            "Epoch 95/100\n",
            "5129/5129 [==============================] - 14s 3ms/step - loss: 1.1107e-05 - accuracy: 1.9497e-04\n",
            "Epoch 96/100\n",
            "5129/5129 [==============================] - 14s 3ms/step - loss: 1.1253e-05 - accuracy: 1.9497e-04\n",
            "Epoch 97/100\n",
            "5129/5129 [==============================] - 14s 3ms/step - loss: 1.1614e-05 - accuracy: 1.9497e-04\n",
            "Epoch 98/100\n",
            "5129/5129 [==============================] - 14s 3ms/step - loss: 1.1419e-05 - accuracy: 1.9497e-04\n",
            "Epoch 99/100\n",
            "5129/5129 [==============================] - 14s 3ms/step - loss: 1.1513e-05 - accuracy: 1.9497e-04\n",
            "Epoch 100/100\n",
            "5129/5129 [==============================] - 14s 3ms/step - loss: 1.1246e-05 - accuracy: 1.9497e-04\n",
            "Model: \"sequential\"\n",
            "_________________________________________________________________\n",
            "Layer (type)                 Output Shape              Param #   \n",
            "=================================================================\n",
            "lstm (LSTM)                  (None, 256)               264192    \n",
            "_________________________________________________________________\n",
            "dense (Dense)                (None, 1)                 257       \n",
            "=================================================================\n",
            "Total params: 264,449\n",
            "Trainable params: 264,449\n",
            "Non-trainable params: 0\n",
            "_________________________________________________________________\n",
            "WARNING:tensorflow:From /usr/local/lib/python3.6/dist-packages/tensorflow/python/ops/resource_variable_ops.py:1817: calling BaseResourceVariable.__init__ (from tensorflow.python.ops.resource_variable_ops) with constraint is deprecated and will be removed in a future version.\n",
            "Instructions for updating:\n",
            "If using Keras pass *_constraint arguments to layers.\n",
            "INFO:tensorflow:Assets written to: saved_model/my_model/assets\n"
          ],
          "name": "stdout"
        }
      ]
    },
    {
      "cell_type": "code",
      "metadata": {
        "id": "U81BxezuqXHg",
        "colab_type": "code",
        "colab": {
          "base_uri": "https://localhost:8080/",
          "height": 50
        },
        "outputId": "143b459c-fa92-45a4-cf67-40e37ebb9799"
      },
      "source": [
        "score = model.evaluate(train_x, train_y, verbose=0)\n",
        "print('Keras Model Loss = ',score[0])\n",
        "print('Keras Model Accuracy = ',score[1])"
      ],
      "execution_count": 21,
      "outputs": [
        {
          "output_type": "stream",
          "text": [
            "Keras Model Loss =  1.5366600564448163e-05\n",
            "Keras Model Accuracy =  0.00019496977620292455\n"
          ],
          "name": "stdout"
        }
      ]
    },
    {
      "cell_type": "code",
      "metadata": {
        "id": "aWjEuUojqXHi",
        "colab_type": "code",
        "colab": {}
      },
      "source": [
        "#Test Predict\n",
        "train_prediction = model.predict(train_x)\n",
        "test_prediction = model.predict(test_x)\n",
        "\n",
        "#inverse scalar function\n",
        "train_prediction = sc.inverse_transform(train_prediction)\n",
        "train_y = sc.inverse_transform([train_y])\n",
        "\n",
        "test_prediction = sc.inverse_transform(test_prediction)\n",
        "test_y = sc.inverse_transform([test_y])\n",
        "\n"
      ],
      "execution_count": 0,
      "outputs": []
    },
    {
      "cell_type": "code",
      "metadata": {
        "id": "tcYabhmVyDBP",
        "colab_type": "code",
        "colab": {}
      },
      "source": [
        "#Split data to Create graph\n",
        "train_predict_plot = np.empty_like(data_scaled)\n",
        "train_predict_plot[:, :] = np.nan\n",
        "train_predict_plot[1:len(train_prediction)+1, :] = train_prediction\n",
        "\n",
        "test_predict_plot = np.empty_like(data_scaled)\n",
        "test_predict_plot[:, :] = np.nan\n",
        "test_predict_plot[len(train_prediction)+(1*2)+1:len(data_scaled)-1, :] = test_prediction\n"
      ],
      "execution_count": 0,
      "outputs": []
    },
    {
      "cell_type": "code",
      "metadata": {
        "id": "Dznrb7A8yEqS",
        "colab_type": "code",
        "colab": {
          "base_uri": "https://localhost:8080/",
          "height": 350
        },
        "outputId": "ab7d344b-01ad-4b51-d61b-a5215431b2c8"
      },
      "source": [
        "#Create graph\n",
        "plt.figure(figsize=(10,5))\n",
        "plt.title(\"IHSG Stock Prices\")\n",
        "plt.plot(sc.inverse_transform(data_scaled))\n",
        "plt.plot(train_predict_plot)\n",
        "plt.xlabel(\"Time (oldest -> latest)\")\n",
        "plt.ylabel(\"Stock Opening Price\")\n",
        "plt.plot(test_predict_plot, color='g')\n",
        "plt.show()\n",
        "\n",
        "\n",
        "plt.show()\n"
      ],
      "execution_count": 28,
      "outputs": [
        {
          "output_type": "display_data",
          "data": {
            "image/png": "[encoded data removed]",
            "text/plain": [
              "<Figure size 720x360 with 1 Axes>"
            ]
          },
          "metadata": {
            "tags": []
          }
        }
      ]
    }
  ]
}